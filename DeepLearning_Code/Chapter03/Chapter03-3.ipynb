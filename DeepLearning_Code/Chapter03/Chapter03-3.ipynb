{
 "cells": [
  {
   "cell_type": "markdown",
   "metadata": {},
   "source": [
    "# 3.Convolutional Neural Networks"
   ]
  },
  {
   "cell_type": "markdown",
   "metadata": {},
   "source": [
    "## 3.2Keras Tutorial - The Happy House(not garded)"
   ]
  },
  {
   "cell_type": "code",
   "execution_count": 7,
   "metadata": {},
   "outputs": [],
   "source": [
    "import numpy as np \n",
    "from keras import layers\n",
    "from keras.layers import Input,Dense,Activation,ZeroPadding2D,BatchNormalization,Flatten,Conv2D\n",
    "from keras.layers import AveragePooling2D,MaxPooling2D,Dropout,GlobalMaxPooling2D,GlobalAveragePooling2D\n",
    "from keras.models import Model\n",
    "from keras.preprocessing import image\n",
    "from keras.utils import layer_utils\n",
    "from keras.utils.data_utils import get_file\n",
    "from keras.applications.imagenet_utils import preprocess_input\n",
    "import pydot\n",
    "from IPython.display import SVG\n",
    "from keras.utils.vis_utils import model_to_dot\n",
    "from keras.utils import plot_model\n",
    "from kt_utils import *\n",
    "\n",
    "import keras.backend as K\n",
    "K.set_image_data_format('channels_last')\n",
    "import matplotlib.pyplot as plt\n",
    "from matplotlib.pyplot import imshow"
   ]
  },
  {
   "cell_type": "code",
   "execution_count": 8,
   "metadata": {},
   "outputs": [],
   "source": [
    "X_train_orig,Y_train_orig,X_test_orig,Y_test_orig,classes = load_dataset()"
   ]
  },
  {
   "cell_type": "code",
   "execution_count": 9,
   "metadata": {},
   "outputs": [],
   "source": [
    "X_train = X_train_orig/255\n",
    "X_test = X_test_orig/255"
   ]
  },
  {
   "cell_type": "code",
   "execution_count": 10,
   "metadata": {},
   "outputs": [],
   "source": [
    "Y_train = Y_train_orig.T\n",
    "Y_test = Y_test_orig.T"
   ]
  },
  {
   "cell_type": "code",
   "execution_count": 11,
   "metadata": {},
   "outputs": [
    {
     "name": "stdout",
     "output_type": "stream",
     "text": [
      "number of training examples = 600\n",
      "number of test example = 150\n",
      "X_train shape:(600, 64, 64, 3)\n",
      "Y_train shape:(600, 1)\n",
      "X_test shape:(150, 64, 64, 3)\n",
      "Y_test shape:(150, 1)\n"
     ]
    }
   ],
   "source": [
    "print(\"number of training examples = \" + str(X_train.shape[0]))\n",
    "print(\"number of test example = \" + str(X_test.shape[0]))\n",
    "print(\"X_train shape:\" + str(X_train.shape))\n",
    "print(\"Y_train shape:\" + str(Y_train.shape))\n",
    "print(\"X_test shape:\" + str(X_test.shape))\n",
    "print(\"Y_test shape:\" + str(Y_test.shape))"
   ]
  },
  {
   "cell_type": "code",
   "execution_count": 12,
   "metadata": {},
   "outputs": [],
   "source": [
    "def model(input_shape):\n",
    "    X_input = Input(input_shape)\n",
    "    \n",
    "    X = ZeroPadding2D((3,3))(X_input)\n",
    "    \n",
    "    X = Conv2D(32,(7,7),strides = (1,1),name = 'conv0')(X)\n",
    "    X = BatchNormalization(axis = 3, name = 'bn0')(X)\n",
    "    X = Activation('relu')(X)\n",
    "    \n",
    "    X = MaxPooling2D((2,2), name='max_pool')(X)\n",
    "    X = Flatten()(X)\n",
    "    X = Dense(1,activation = 'sigmoid', name = 'fc')(X)\n",
    "    \n",
    "    model = Model(inputs = X_input, outputs = X, name='Happymodel')\n",
    "    \n",
    "    return model"
   ]
  },
  {
   "cell_type": "code",
   "execution_count": 14,
   "metadata": {},
   "outputs": [],
   "source": [
    "def HappyModel(input_shape):\n",
    "    X_input = Input(input_shape)\n",
    "    \n",
    "    X = ZeroPadding2D(padding=(1,1))(X_input)\n",
    "    X = Conv2D(8,kernel_size = (3,3),strides = (1,1),name = 'conv1')(X)\n",
    "    X = BatchNormalization(axis = 3,name ='bn1')(X)\n",
    "    X = Activation('relu')(X)\n",
    "    X = MaxPooling2D(pool_size = (2,2),strides = (2,2),name='max_pool1')(X)\n",
    "    \n",
    "    X = ZeroPadding2D(padding = (1,1))(X_input)\n",
    "    X = Conv2D(16,kernel_size =(3,3),strides=(1,1),name='conv2')(X)\n",
    "    X = BatchNormalization(axis = 3, name = 'bn2')(X)\n",
    "    X = Activation('relu')(X)\n",
    "    X = MaxPooling2D(pool_size = (2,2),strides=(2,2),name='max_pool2')(X)\n",
    "                      \n",
    "    X = ZeroPadding2D(padding=(1,1))(X_input)\n",
    "    X = Conv2D(32,kernel_size = (3,3), strides=(1,1),name = 'conv3')(X)\n",
    "    X = BatchNormalization(axis =3,name='bn3')(X)\n",
    "    X = Activation('relu')(X)\n",
    "    \n",
    "    X = MaxPooling2D(pool_size = (2,2),strides=(2,2),name='max_pool3')(X)\n",
    "    \n",
    "    X = Flatten()(X)\n",
    "    X = Dense(1,activation='sigmoid',name='fc')(X)\n",
    "                      \n",
    "    model = Model(inputs = X_input,outputs = X, name='HappyModel')\n",
    "                      \n",
    "    return model"
   ]
  },
  {
   "cell_type": "code",
   "execution_count": 15,
   "metadata": {},
   "outputs": [
    {
     "name": "stdout",
     "output_type": "stream",
     "text": [
      "WARNING:tensorflow:From G:\\anaconda\\lib\\site-packages\\tensorflow\\python\\framework\\op_def_library.py:263: colocate_with (from tensorflow.python.framework.ops) is deprecated and will be removed in a future version.\n",
      "Instructions for updating:\n",
      "Colocations handled automatically by placer.\n"
     ]
    }
   ],
   "source": [
    "happyModel = HappyModel((64,64,3))"
   ]
  },
  {
   "cell_type": "code",
   "execution_count": 16,
   "metadata": {},
   "outputs": [],
   "source": [
    "import keras\n",
    "happyModel.compile(optimizer=keras.optimizers.Adam(lr=0.001,beta_1=0.9, beta_2=0.999, epsilon=1e-08, decay=0.0), loss =\"binary_crossentropy\", metrics = [\"accuracy\"])"
   ]
  },
  {
   "cell_type": "code",
   "execution_count": 17,
   "metadata": {},
   "outputs": [
    {
     "name": "stdout",
     "output_type": "stream",
     "text": [
      "WARNING:tensorflow:From G:\\anaconda\\lib\\site-packages\\tensorflow\\python\\ops\\math_ops.py:3066: to_int32 (from tensorflow.python.ops.math_ops) is deprecated and will be removed in a future version.\n",
      "Instructions for updating:\n",
      "Use tf.cast instead.\n",
      "Epoch 1/20\n",
      "600/600 [==============================] - 8s 13ms/step - loss: 1.2840 - acc: 0.6950\n",
      "Epoch 2/20\n",
      "600/600 [==============================] - 7s 11ms/step - loss: 0.1867 - acc: 0.9150\n",
      "Epoch 3/20\n",
      "600/600 [==============================] - 7s 11ms/step - loss: 0.1150 - acc: 0.9567\n",
      "Epoch 4/20\n",
      "600/600 [==============================] - 6s 10ms/step - loss: 0.0832 - acc: 0.9683\n",
      "Epoch 5/20\n",
      "600/600 [==============================] - 6s 10ms/step - loss: 0.1789 - acc: 0.9383\n",
      "Epoch 6/20\n",
      "600/600 [==============================] - 7s 12ms/step - loss: 0.2569 - acc: 0.9100\n",
      "Epoch 7/20\n",
      "600/600 [==============================] - 7s 12ms/step - loss: 0.1093 - acc: 0.9717\n",
      "Epoch 8/20\n",
      "600/600 [==============================] - 8s 13ms/step - loss: 0.0838 - acc: 0.9650\n",
      "Epoch 9/20\n",
      "600/600 [==============================] - 8s 13ms/step - loss: 0.0910 - acc: 0.9783\n",
      "Epoch 10/20\n",
      "600/600 [==============================] - 7s 12ms/step - loss: 0.0395 - acc: 0.9883\n",
      "Epoch 11/20\n",
      "600/600 [==============================] - 7s 12ms/step - loss: 0.0438 - acc: 0.9833\n",
      "Epoch 12/20\n",
      "600/600 [==============================] - 7s 12ms/step - loss: 0.0245 - acc: 0.9933\n",
      "Epoch 13/20\n",
      "600/600 [==============================] - 6s 11ms/step - loss: 0.0257 - acc: 0.9917\n",
      "Epoch 14/20\n",
      "600/600 [==============================] - 6s 11ms/step - loss: 0.0159 - acc: 0.9967\n",
      "Epoch 15/20\n",
      "600/600 [==============================] - 6s 11ms/step - loss: 0.0269 - acc: 0.9850\n",
      "Epoch 16/20\n",
      "600/600 [==============================] - 7s 11ms/step - loss: 0.0144 - acc: 0.9933\n",
      "Epoch 17/20\n",
      "600/600 [==============================] - 6s 11ms/step - loss: 0.0237 - acc: 0.9917\n",
      "Epoch 18/20\n",
      "600/600 [==============================] - 6s 11ms/step - loss: 0.0405 - acc: 0.9817\n",
      "Epoch 19/20\n",
      "600/600 [==============================] - 6s 11ms/step - loss: 0.0400 - acc: 0.9883\n",
      "Epoch 20/20\n",
      "600/600 [==============================] - 6s 11ms/step - loss: 0.0305 - acc: 0.9950\n"
     ]
    },
    {
     "data": {
      "text/plain": [
       "<keras.callbacks.History at 0x2412d0ae048>"
      ]
     },
     "execution_count": 17,
     "metadata": {},
     "output_type": "execute_result"
    }
   ],
   "source": [
    "happyModel.fit(x = X_train, y = Y_train, epochs = 20, batch_size = 16)"
   ]
  },
  {
   "cell_type": "code",
   "execution_count": 18,
   "metadata": {},
   "outputs": [
    {
     "name": "stdout",
     "output_type": "stream",
     "text": [
      "150/150 [==============================] - 1s 5ms/step\n",
      "\n",
      "Loss = 0.2237874178091685\n",
      "Test Accuracy = 0.940000003973643\n"
     ]
    }
   ],
   "source": [
    "preds = happyModel.evaluate(x=X_test, y=Y_test)\n",
    "\n",
    "print()\n",
    "print (\"Loss = \" + str(preds[0]))\n",
    "print (\"Test Accuracy = \" + str(preds[1]))"
   ]
  },
  {
   "cell_type": "code",
   "execution_count": 68,
   "metadata": {},
   "outputs": [
    {
     "data": {
      "image/png": "[encoded data removed]",
      "text/plain": [
       "<Figure size 432x288 with 1 Axes>"
      ]
     },
     "metadata": {},
     "output_type": "display_data"
    }
   ],
   "source": [
    "img_path = './picture/test07.jpg'\n",
    "img1 = image.load_img(img_path)\n",
    "imshow(img1)\n",
    "img = image.load_img(img_path,target_size=(64,64))"
   ]
  },
  {
   "cell_type": "code",
   "execution_count": 69,
   "metadata": {},
   "outputs": [],
   "source": [
    "x = image.img_to_array(img)\n",
    "x = np.expand_dims(x, axis=0)\n",
    "x = preprocess_input(x)"
   ]
  },
  {
   "cell_type": "code",
   "execution_count": 70,
   "metadata": {},
   "outputs": [
    {
     "name": "stdout",
     "output_type": "stream",
     "text": [
      "Happy\n"
     ]
    }
   ],
   "source": [
    "ishappy = happyModel.predict(x)[0][0]\n",
    "if ishappy:\n",
    "    print(\"Happy\")\n",
    "else:\n",
    "    print(\"Not Happy\")        "
   ]
  },
  {
   "cell_type": "code",
   "execution_count": 28,
   "metadata": {},
   "outputs": [
    {
     "name": "stdout",
     "output_type": "stream",
     "text": [
      "_________________________________________________________________\n",
      "Layer (type)                 Output Shape              Param #   \n",
      "=================================================================\n",
      "input_1 (InputLayer)         (None, 64, 64, 3)         0         \n",
      "_________________________________________________________________\n",
      "zero_padding2d_3 (ZeroPaddin (None, 66, 66, 3)         0         \n",
      "_________________________________________________________________\n",
      "conv3 (Conv2D)               (None, 64, 64, 32)        896       \n",
      "_________________________________________________________________\n",
      "bn3 (BatchNormalization)     (None, 64, 64, 32)        128       \n",
      "_________________________________________________________________\n",
      "activation_3 (Activation)    (None, 64, 64, 32)        0         \n",
      "_________________________________________________________________\n",
      "max_pool3 (MaxPooling2D)     (None, 32, 32, 32)        0         \n",
      "_________________________________________________________________\n",
      "flatten_1 (Flatten)          (None, 32768)             0         \n",
      "_________________________________________________________________\n",
      "fc (Dense)                   (None, 1)                 32769     \n",
      "=================================================================\n",
      "Total params: 33,793\n",
      "Trainable params: 33,729\n",
      "Non-trainable params: 64\n",
      "_________________________________________________________________\n"
     ]
    }
   ],
   "source": [
    "happyModel.summary()"
   ]
  },
  {
   "cell_type": "code",
   "execution_count": 29,
   "metadata": {},
   "outputs": [
    {
     "data": {
      "image/svg+xml": [
       "<svg height=\"556pt\" viewBox=\"0.00 0.00 225.00 556.00\" width=\"225pt\" xmlns=\"http://www.w3.org/2000/svg\" xmlns:xlink=\"http://www.w3.org/1999/xlink\">\n",
       "<g class=\"graph\" id=\"graph0\" transform=\"scale(1 1) rotate(0) translate(4 552)\">\n",
       "<title>G</title>\n",
       "<polygon fill=\"white\" points=\"-4,4 -4,-552 221,-552 221,4 -4,4\" stroke=\"none\"/>\n",
       "<!-- 2478951817792 -->\n",
       "<g class=\"node\" id=\"node1\"><title>2478951817792</title>\n",
       "<polygon fill=\"none\" points=\"45.5,-511.5 45.5,-547.5 171.5,-547.5 171.5,-511.5 45.5,-511.5\" stroke=\"black\"/>\n",
       "<text font-family=\"Times New Roman,serif\" font-size=\"14.00\" text-anchor=\"middle\" x=\"108.5\" y=\"-525.8\">input_1: InputLayer</text>\n",
       "</g>\n",
       "<!-- 2478956281584 -->\n",
       "<g class=\"node\" id=\"node2\"><title>2478956281584</title>\n",
       "<polygon fill=\"none\" points=\"0,-438.5 0,-474.5 217,-474.5 217,-438.5 0,-438.5\" stroke=\"black\"/>\n",
       "<text font-family=\"Times New Roman,serif\" font-size=\"14.00\" text-anchor=\"middle\" x=\"108.5\" y=\"-452.8\">zero_padding2d_3: ZeroPadding2D</text>\n",
       "</g>\n",
       "<!-- 2478951817792&#45;&gt;2478956281584 -->\n",
       "<g class=\"edge\" id=\"edge1\"><title>2478951817792-&gt;2478956281584</title>\n",
       "<path d=\"M108.5,-511.313C108.5,-503.289 108.5,-493.547 108.5,-484.569\" fill=\"none\" stroke=\"black\"/>\n",
       "<polygon fill=\"black\" points=\"112,-484.529 108.5,-474.529 105,-484.529 112,-484.529\" stroke=\"black\"/>\n",
       "</g>\n",
       "<!-- 2478824420800 -->\n",
       "<g class=\"node\" id=\"node3\"><title>2478824420800</title>\n",
       "<polygon fill=\"none\" points=\"56,-365.5 56,-401.5 161,-401.5 161,-365.5 56,-365.5\" stroke=\"black\"/>\n",
       "<text font-family=\"Times New Roman,serif\" font-size=\"14.00\" text-anchor=\"middle\" x=\"108.5\" y=\"-379.8\">conv3: Conv2D</text>\n",
       "</g>\n",
       "<!-- 2478956281584&#45;&gt;2478824420800 -->\n",
       "<g class=\"edge\" id=\"edge2\"><title>2478956281584-&gt;2478824420800</title>\n",
       "<path d=\"M108.5,-438.313C108.5,-430.289 108.5,-420.547 108.5,-411.569\" fill=\"none\" stroke=\"black\"/>\n",
       "<polygon fill=\"black\" points=\"112,-411.529 108.5,-401.529 105,-411.529 112,-411.529\" stroke=\"black\"/>\n",
       "</g>\n",
       "<!-- 2478957104880 -->\n",
       "<g class=\"node\" id=\"node4\"><title>2478957104880</title>\n",
       "<polygon fill=\"none\" points=\"31.5,-292.5 31.5,-328.5 185.5,-328.5 185.5,-292.5 31.5,-292.5\" stroke=\"black\"/>\n",
       "<text font-family=\"Times New Roman,serif\" font-size=\"14.00\" text-anchor=\"middle\" x=\"108.5\" y=\"-306.8\">bn3: BatchNormalization</text>\n",
       "</g>\n",
       "<!-- 2478824420800&#45;&gt;2478957104880 -->\n",
       "<g class=\"edge\" id=\"edge3\"><title>2478824420800-&gt;2478957104880</title>\n",
       "<path d=\"M108.5,-365.313C108.5,-357.289 108.5,-347.547 108.5,-338.569\" fill=\"none\" stroke=\"black\"/>\n",
       "<polygon fill=\"black\" points=\"112,-338.529 108.5,-328.529 105,-338.529 112,-338.529\" stroke=\"black\"/>\n",
       "</g>\n",
       "<!-- 2478957230232 -->\n",
       "<g class=\"node\" id=\"node5\"><title>2478957230232</title>\n",
       "<polygon fill=\"none\" points=\"34.5,-219.5 34.5,-255.5 182.5,-255.5 182.5,-219.5 34.5,-219.5\" stroke=\"black\"/>\n",
       "<text font-family=\"Times New Roman,serif\" font-size=\"14.00\" text-anchor=\"middle\" x=\"108.5\" y=\"-233.8\">activation_3: Activation</text>\n",
       "</g>\n",
       "<!-- 2478957104880&#45;&gt;2478957230232 -->\n",
       "<g class=\"edge\" id=\"edge4\"><title>2478957104880-&gt;2478957230232</title>\n",
       "<path d=\"M108.5,-292.313C108.5,-284.289 108.5,-274.547 108.5,-265.569\" fill=\"none\" stroke=\"black\"/>\n",
       "<polygon fill=\"black\" points=\"112,-265.529 108.5,-255.529 105,-265.529 112,-265.529\" stroke=\"black\"/>\n",
       "</g>\n",
       "<!-- 2478957340992 -->\n",
       "<g class=\"node\" id=\"node6\"><title>2478957340992</title>\n",
       "<polygon fill=\"none\" points=\"23.5,-146.5 23.5,-182.5 193.5,-182.5 193.5,-146.5 23.5,-146.5\" stroke=\"black\"/>\n",
       "<text font-family=\"Times New Roman,serif\" font-size=\"14.00\" text-anchor=\"middle\" x=\"108.5\" y=\"-160.8\">max_pool3: MaxPooling2D</text>\n",
       "</g>\n",
       "<!-- 2478957230232&#45;&gt;2478957340992 -->\n",
       "<g class=\"edge\" id=\"edge5\"><title>2478957230232-&gt;2478957340992</title>\n",
       "<path d=\"M108.5,-219.313C108.5,-211.289 108.5,-201.547 108.5,-192.569\" fill=\"none\" stroke=\"black\"/>\n",
       "<polygon fill=\"black\" points=\"112,-192.529 108.5,-182.529 105,-192.529 112,-192.529\" stroke=\"black\"/>\n",
       "</g>\n",
       "<!-- 2478957340600 -->\n",
       "<g class=\"node\" id=\"node7\"><title>2478957340600</title>\n",
       "<polygon fill=\"none\" points=\"54,-73.5 54,-109.5 163,-109.5 163,-73.5 54,-73.5\" stroke=\"black\"/>\n",
       "<text font-family=\"Times New Roman,serif\" font-size=\"14.00\" text-anchor=\"middle\" x=\"108.5\" y=\"-87.8\">flatten_1: Flatten</text>\n",
       "</g>\n",
       "<!-- 2478957340992&#45;&gt;2478957340600 -->\n",
       "<g class=\"edge\" id=\"edge6\"><title>2478957340992-&gt;2478957340600</title>\n",
       "<path d=\"M108.5,-146.313C108.5,-138.289 108.5,-128.547 108.5,-119.569\" fill=\"none\" stroke=\"black\"/>\n",
       "<polygon fill=\"black\" points=\"112,-119.529 108.5,-109.529 105,-119.529 112,-119.529\" stroke=\"black\"/>\n",
       "</g>\n",
       "<!-- 2478957995624 -->\n",
       "<g class=\"node\" id=\"node8\"><title>2478957995624</title>\n",
       "<polygon fill=\"none\" points=\"74,-0.5 74,-36.5 143,-36.5 143,-0.5 74,-0.5\" stroke=\"black\"/>\n",
       "<text font-family=\"Times New Roman,serif\" font-size=\"14.00\" text-anchor=\"middle\" x=\"108.5\" y=\"-14.8\">fc: Dense</text>\n",
       "</g>\n",
       "<!-- 2478957340600&#45;&gt;2478957995624 -->\n",
       "<g class=\"edge\" id=\"edge7\"><title>2478957340600-&gt;2478957995624</title>\n",
       "<path d=\"M108.5,-73.3129C108.5,-65.2895 108.5,-55.5475 108.5,-46.5691\" fill=\"none\" stroke=\"black\"/>\n",
       "<polygon fill=\"black\" points=\"112,-46.5288 108.5,-36.5288 105,-46.5289 112,-46.5288\" stroke=\"black\"/>\n",
       "</g>\n",
       "</g>\n",
       "</svg>"
      ],
      "text/plain": [
       "<IPython.core.display.SVG object>"
      ]
     },
     "execution_count": 29,
     "metadata": {},
     "output_type": "execute_result"
    }
   ],
   "source": [
    "plot_model(happyModel, to_file='HappyModel.png')\n",
    "SVG(model_to_dot(happyModel).create(prog='dot', format='svg'))"
   ]
  },
  {
   "cell_type": "code",
   "execution_count": null,
   "metadata": {},
   "outputs": [],
   "source": []
  }
 ],
 "metadata": {
  "kernelspec": {
   "display_name": "Python 3",
   "language": "python",
   "name": "python3"
  },
  "language_info": {
   "codemirror_mode": {
    "name": "ipython",
    "version": 3
   },
   "file_extension": ".py",
   "mimetype": "text/x-python",
   "name": "python",
   "nbconvert_exporter": "python",
   "pygments_lexer": "ipython3",
   "version": "3.6.5"
  }
 },
 "nbformat": 4,
 "nbformat_minor": 2
}
